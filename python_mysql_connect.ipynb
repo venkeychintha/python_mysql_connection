{
 "cells": [
  {
   "cell_type": "code",
   "execution_count": 1,
   "id": "46855dfe",
   "metadata": {},
   "outputs": [],
   "source": [
    "## How to fetch\n",
    "## How to insert\n",
    "## How to Drop"
   ]
  },
  {
   "cell_type": "markdown",
   "id": "a1bdf532",
   "metadata": {},
   "source": [
    "## Creating Connection"
   ]
  },
  {
   "cell_type": "code",
   "execution_count": 4,
   "id": "0ed7782e",
   "metadata": {},
   "outputs": [
    {
     "name": "stdout",
     "output_type": "stream",
     "text": [
      "Collecting mysql-connector-pythonNote: you may need to restart the kernel to use updated packages.\n",
      "  Downloading mysql_connector_python-8.0.30-cp39-cp39-win_amd64.whl (7.8 MB)\n",
      "Requirement already satisfied: protobuf<=3.20.1,>=3.11.0 in c:\\users\\lenovo\\anaconda3\\lib\\site-packages (from mysql-connector-python) (3.20.0)\n",
      "Installing collected packages: mysql-connector-python\n",
      "Successfully installed mysql-connector-python-8.0.30\n",
      "\n"
     ]
    }
   ],
   "source": [
    "pip install mysql-connector-python "
   ]
  },
  {
   "cell_type": "code",
   "execution_count": 5,
   "id": "b1baf19c",
   "metadata": {},
   "outputs": [
    {
     "name": "stdout",
     "output_type": "stream",
     "text": [
      "CMySQLCursor: (Nothing executed yet)\n"
     ]
    }
   ],
   "source": [
    "import mysql.connector\n",
    "\n",
    "cnx = mysql.connector.connect(\n",
    "    host=\"localhost\",\n",
    "    user='root',\n",
    "    password='123456',\n",
    "    database='unfoldds'\n",
    "        )\n",
    "\n",
    "cursor = cnx.cursor()\n",
    "print(cursor)"
   ]
  },
  {
   "cell_type": "markdown",
   "id": "7979a095",
   "metadata": {},
   "source": [
    "## Fetching Data"
   ]
  },
  {
   "cell_type": "code",
   "execution_count": 6,
   "id": "9b02a015",
   "metadata": {},
   "outputs": [
    {
     "name": "stdout",
     "output_type": "stream",
     "text": [
      "11 venkey\n",
      "22 subbu\n"
     ]
    }
   ],
   "source": [
    "query = (\"select id, name1 from unfoldds.studenttable\")\n",
    "\n",
    "cursor.execute(query)\n",
    "\n",
    "for (id, name1) in cursor:\n",
    "    print(id, name1)\n",
    "    \n",
    "cursor.close()\n",
    "cnx.close()"
   ]
  },
  {
   "cell_type": "markdown",
   "id": "8a309787",
   "metadata": {},
   "source": [
    "## Creating new table and Inserting Data"
   ]
  },
  {
   "cell_type": "code",
   "execution_count": 7,
   "id": "2161a925",
   "metadata": {},
   "outputs": [],
   "source": [
    "cnx = mysql.connector.connect(\n",
    "    host=\"localhost\",\n",
    "    user='root',\n",
    "    password='123456',\n",
    "    database='unfoldds'\n",
    "        )\n",
    "\n",
    "cursor = cnx.cursor()\n",
    "cursor.execute(\"CREATE TABLE unfoldds.mytable0919 (name VARCHAR(100), location VARCHAR(100))\")"
   ]
  },
  {
   "cell_type": "code",
   "execution_count": 8,
   "id": "3184903c",
   "metadata": {},
   "outputs": [],
   "source": [
    "insertquery = \"INSERT INTO unfoldds.mytable0919 (name, location) VALUES (%s, %s)\"\n",
    "value = (\"Aman\",\"Bangalore\")\n",
    "cursor.execute(insertquery, value)"
   ]
  },
  {
   "cell_type": "code",
   "execution_count": 9,
   "id": "200cd07e",
   "metadata": {},
   "outputs": [],
   "source": [
    "## INSERTING MULTIBLE RECORDS IN A TABLE\n",
    "multipleinsertquery = \"INSERT INTO unfoldds.mytable0919 (name, location) VALUES (%s, %s)\"\n",
    "values = [(\"Aman\",\"Bangalore\"),\n",
    "        (\"Adam\", \"USA\"),\n",
    "         (\"Sandeep\",\"UK\"),\n",
    "         (\"venkat\",\"Hyderabad\"),\n",
    "         ('sam','Pune')]\n",
    "\n",
    "cursor.executemany(multipleinsertquery, values)\n"
   ]
  },
  {
   "cell_type": "code",
   "execution_count": 10,
   "id": "2b2b7840",
   "metadata": {},
   "outputs": [],
   "source": [
    "#cursor = cnx.cursor()\n",
    "cursor.execute(\"Select * from mytable0919\")"
   ]
  },
  {
   "cell_type": "code",
   "execution_count": 11,
   "id": "a7b63967",
   "metadata": {},
   "outputs": [
    {
     "data": {
      "text/plain": [
       "[('Aman', 'Bangalore'),\n",
       " ('Aman', 'Bangalore'),\n",
       " ('Adam', 'USA'),\n",
       " ('Sandeep', 'UK'),\n",
       " ('venkat', 'Hyderabad'),\n",
       " ('sam', 'Pune')]"
      ]
     },
     "execution_count": 11,
     "metadata": {},
     "output_type": "execute_result"
    }
   ],
   "source": [
    "## Fetch All the Data\n",
    "cursor.fetchall()"
   ]
  },
  {
   "cell_type": "markdown",
   "id": "fb38dc89",
   "metadata": {},
   "source": [
    "## Dropping the above created table"
   ]
  },
  {
   "cell_type": "code",
   "execution_count": 12,
   "id": "bccab606",
   "metadata": {},
   "outputs": [],
   "source": [
    "cursor.execute(\"Drop table mytable0919\")"
   ]
  },
  {
   "cell_type": "code",
   "execution_count": null,
   "id": "06d46ee4",
   "metadata": {},
   "outputs": [],
   "source": []
  }
 ],
 "metadata": {
  "kernelspec": {
   "display_name": "Python 3 (ipykernel)",
   "language": "python",
   "name": "python3"
  },
  "language_info": {
   "codemirror_mode": {
    "name": "ipython",
    "version": 3
   },
   "file_extension": ".py",
   "mimetype": "text/x-python",
   "name": "python",
   "nbconvert_exporter": "python",
   "pygments_lexer": "ipython3",
   "version": "3.9.7"
  }
 },
 "nbformat": 4,
 "nbformat_minor": 5
}
